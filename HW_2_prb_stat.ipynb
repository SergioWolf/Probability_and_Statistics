{
 "cells": [
  {
   "cell_type": "markdown",
   "metadata": {},
   "source": [
    "### Урок 2. Дискретные случайные величины. Закон распределения вероятностей. Биномиальный закон распределения. Распределение Пуассона"
   ]
  },
  {
   "cell_type": "markdown",
   "metadata": {},
   "source": [
    "##### 1. Вероятность того, что стрелок попадет в мишень, выстрелив один раз, равна 0.8. Стрелок выстрелил 100 раз. Найдите вероятность того, что стрелок попадет в цель ровно 85 раз"
   ]
  },
  {
   "cell_type": "code",
   "execution_count": 1,
   "metadata": {},
   "outputs": [],
   "source": [
    "import numpy as np\n",
    "from math import factorial\n",
    "\n",
    "def combinations (n, k):\n",
    "    return factorial(n) / (factorial(k) * factorial(n -k))\n",
    "\n",
    "def bernuli (p, n, k):\n",
    "    return combinations(n, k) * p**(k) * (1 - p)**(n - k)\n",
    "\n",
    "def puason (lmb, m):\n",
    "    return lmb**m/factorial(m)*np.exp(-lmb)"
   ]
  },
  {
   "cell_type": "markdown",
   "metadata": {},
   "source": [
    "$$P = (C_{100}^{85}\\cdot{0.8}^{85}\\cdot{0.2}^{15})\\cdot{100} = 4.81\\% $$"
   ]
  },
  {
   "cell_type": "code",
   "execution_count": 14,
   "metadata": {},
   "outputs": [
    {
     "name": "stdout",
     "output_type": "stream",
     "text": [
      "4.806179370074635\n"
     ]
    }
   ],
   "source": [
    "P = bernuli (0.8, 100, 85)\n",
    "print(P * 100)"
   ]
  },
  {
   "cell_type": "markdown",
   "metadata": {},
   "source": [
    "##### 2. Вероятность того, что лампочка перегорит в течение первого дня эксплуатации, равна 0.0004. В жилом комплексе после ремонта в один день включили 5000 новых лампочек. Какова вероятность, что ни одна из них не перегорит в первый день? Какова вероятность, что перегорят ровно две?"
   ]
  },
  {
   "cell_type": "markdown",
   "metadata": {},
   "source": [
    "2.1   $$P \\approx (\\frac{\\lambda^m}{m!}e^{-\\lambda})\\cdot{100} \\approx (\\frac{2^{0}}{0!}e^{-2})\\cdot{100} \\approx  13.5\\%$$\n"
   ]
  },
  {
   "cell_type": "code",
   "execution_count": 15,
   "metadata": {},
   "outputs": [
    {
     "name": "stdout",
     "output_type": "stream",
     "text": [
      "2.0\n",
      "0.1353352832366127\n"
     ]
    }
   ],
   "source": [
    "lmb = 5000 * 0.0004\n",
    "print(lmb)\n",
    "print(puason(lmb, 0))"
   ]
  },
  {
   "cell_type": "markdown",
   "metadata": {},
   "source": [
    "2.2   $$P \\approx (\\frac{\\lambda^m}{m!}e^{-\\lambda})\\cdot{100} \\approx (\\frac{2^{2}}{2!}e^{-2})\\cdot{100} \\approx  27.1\\%$$"
   ]
  },
  {
   "cell_type": "code",
   "execution_count": 16,
   "metadata": {},
   "outputs": [
    {
     "name": "stdout",
     "output_type": "stream",
     "text": [
      "0.2706705664732254\n"
     ]
    }
   ],
   "source": [
    "print(puason(lmb, 2))"
   ]
  },
  {
   "cell_type": "markdown",
   "metadata": {},
   "source": [
    "##### 3. Монету подбросили 144 раза. Какова вероятность, что орел выпадет ровно 70 раз?"
   ]
  },
  {
   "cell_type": "code",
   "execution_count": 17,
   "metadata": {},
   "outputs": [
    {
     "name": "stdout",
     "output_type": "stream",
     "text": [
      "6.281178035144776\n"
     ]
    }
   ],
   "source": [
    "P = bernuli (0.5, 144, 70)\n",
    "print(P * 100)"
   ]
  },
  {
   "cell_type": "markdown",
   "metadata": {},
   "source": [
    "$$P = (C_{144}^{70}\\cdot{0.5}^{70}\\cdot{0.5}^{74})\\cdot{100} = 6.28\\% $$"
   ]
  },
  {
   "cell_type": "markdown",
   "metadata": {},
   "source": [
    "##### 4. В первом ящике находится 10 мячей, из которых 7 - белые. Во втором ящике - 11 мячей, из которых 9 белых. Из каждого ящика вытаскивают случайным образом по два мяча. Какова вероятность того, что все мячи белые? Какова вероятность того, что ровно два мяча белые? Какова вероятность того, что хотя бы один мяч белый?"
   ]
  },
  {
   "cell_type": "markdown",
   "metadata": {},
   "source": [
    "4.1 \n",
    "\n",
    "$$ P = ((\\frac{7}{10} \\cdot \\frac{6}{9}) \\cdot (\\frac{9}{11}\\cdot \\frac{8}{10}))\\cdot{100} \\approx 31\\% $$"
   ]
  },
  {
   "cell_type": "code",
   "execution_count": 22,
   "metadata": {},
   "outputs": [
    {
     "data": {
      "text/plain": [
       "30.545454545454543"
      ]
     },
     "execution_count": 22,
     "metadata": {},
     "output_type": "execute_result"
    }
   ],
   "source": [
    "(7/10*6/9*9/11*8/10)*100"
   ]
  },
  {
   "cell_type": "markdown",
   "metadata": {},
   "source": [
    "4.2   возможно 3 исхода (2 и 0) + (1 и 1) + (0 и 2) \n",
    "$$ P = ((\\frac{C_{7}^{2}*C_{3}^{0}}{C_{10}^{2}} \\cdot \\frac{C_{9}^{0}*C_{2}^{2}}{C_{11}^{2}}) + (\\frac{C_{7}^{1}*C_{3}^{1}}{C_{10}^{2}} \\cdot \\frac{C_{9}^{1}*C_{2}^{1}}{C_{11}^{2}}) + (\\frac{C_{7}^{0}*C_{3}^{2}}{C_{10}^{2}} \\cdot \\frac{C_{9}^{2}*C_{2}^{0}}{C_{11}^{2}}))\\cdot 100 \\approx 20.5\\% $$"
   ]
  },
  {
   "cell_type": "code",
   "execution_count": 25,
   "metadata": {},
   "outputs": [
    {
     "name": "stdout",
     "output_type": "stream",
     "text": [
      "0.008484848484848484\n"
     ]
    }
   ],
   "source": [
    "c1 = combinations (7, 2)\n",
    "c2 = combinations (3, 0)\n",
    "c3 = combinations (10, 2)\n",
    "c4 = combinations (9, 0)\n",
    "c5 = combinations (2, 2)\n",
    "c6 = combinations (11, 2)\n",
    "p1 = (c1*c2/c3)*(c4*c5/c6)\n",
    "print(p1)"
   ]
  },
  {
   "cell_type": "code",
   "execution_count": 27,
   "metadata": {},
   "outputs": [
    {
     "name": "stdout",
     "output_type": "stream",
     "text": [
      "0.15272727272727274\n"
     ]
    }
   ],
   "source": [
    "c21 = combinations (7, 1)\n",
    "c22 = combinations (3, 1)\n",
    "c23 = combinations (10, 2)\n",
    "c24 = combinations (9, 1)\n",
    "c25 = combinations (2, 1)\n",
    "c26 = combinations (11, 2)\n",
    "p2 = (c21*c22/c23)*(c24*c25/c26)\n",
    "print(p2)"
   ]
  },
  {
   "cell_type": "code",
   "execution_count": 28,
   "metadata": {},
   "outputs": [
    {
     "name": "stdout",
     "output_type": "stream",
     "text": [
      "0.04363636363636363\n"
     ]
    }
   ],
   "source": [
    "c31 = combinations (7, 0)\n",
    "c32 = combinations (3, 2)\n",
    "c33 = combinations (10, 2)\n",
    "c34 = combinations (9, 2)\n",
    "c35 = combinations (2, 0)\n",
    "c36 = combinations (11, 2)\n",
    "p3 = (c31*c32/c33)*(c34*c35/c36)\n",
    "print(p3)"
   ]
  },
  {
   "cell_type": "code",
   "execution_count": 30,
   "metadata": {},
   "outputs": [
    {
     "name": "stdout",
     "output_type": "stream",
     "text": [
      "0.20484848484848486\n"
     ]
    }
   ],
   "source": [
    "P = p1 + p2 + p3\n",
    "print(P)"
   ]
  },
  {
   "cell_type": "markdown",
   "metadata": {},
   "source": [
    "4.3          $$ P = 1 - P(все черные) = 1 - ((\\frac{3}{10} \\cdot \\frac{2}{9}) \\cdot (\\frac{2}{11}\\cdot \\frac{1}{10})) \\approx 0.999  $$"
   ]
  },
  {
   "cell_type": "code",
   "execution_count": 21,
   "metadata": {},
   "outputs": [
    {
     "data": {
      "text/plain": [
       "0.9987878787878788"
      ]
     },
     "execution_count": 21,
     "metadata": {},
     "output_type": "execute_result"
    }
   ],
   "source": [
    "1 - 3/10*2/9*2/11*1/10"
   ]
  }
 ],
 "metadata": {
  "kernelspec": {
   "display_name": "Python 3",
   "language": "python",
   "name": "python3"
  },
  "language_info": {
   "codemirror_mode": {
    "name": "ipython",
    "version": 3
   },
   "file_extension": ".py",
   "mimetype": "text/x-python",
   "name": "python",
   "nbconvert_exporter": "python",
   "pygments_lexer": "ipython3",
   "version": "3.7.4"
  }
 },
 "nbformat": 4,
 "nbformat_minor": 2
}

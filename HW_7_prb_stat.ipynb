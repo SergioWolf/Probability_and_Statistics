{
 "cells": [
  {
   "cell_type": "markdown",
   "metadata": {},
   "source": [
    "### Урок 7. Многомерный статистический анализ. Линейная регрессия"
   ]
  },
  {
   "cell_type": "markdown",
   "metadata": {},
   "source": [
    "##### 1. Даны значения величины заработной платы заемщиков банка (zp) и значения их поведенческого кредитного скоринга (ks): zp = [35, 45, 190, 200, 40, 70, 54, 150, 120, 110], ks = [401, 574, 874, 919, 459, 739, 653, 902, 746, 832]. Используя математические операции, посчитать коэффициенты линейной регрессии, приняв за X заработную плату (то есть, zp - признак), а за y - значения скорингового балла (то есть, ks - целевая переменная). Произвести расчет как с использованием intercept, так и без."
   ]
  },
  {
   "cell_type": "code",
   "execution_count": 32,
   "metadata": {},
   "outputs": [
    {
     "data": {
      "text/plain": [
       "2.620538882402765"
      ]
     },
     "execution_count": 32,
     "metadata": {},
     "output_type": "execute_result"
    }
   ],
   "source": [
    "import numpy as np\n",
    "import matplotlib.pyplot as plt\n",
    "%matplotlib inline\n",
    "\n",
    "X = np.array([35, 45, 190, 200, 40, 70, 54, 150, 120, 110])\n",
    "y = np.array([401, 574, 874, 919, 459, 739, 653, 902, 746, 832])\n",
    "\n",
    "b = (np.mean(X*y) - np.mean(X)*np.mean(y)) / (np.mean(X**2)-np.mean(X)**2)\n",
    "b"
   ]
  },
  {
   "cell_type": "code",
   "execution_count": 33,
   "metadata": {},
   "outputs": [
    {
     "data": {
      "text/plain": [
       "444.1773573243596"
      ]
     },
     "execution_count": 33,
     "metadata": {},
     "output_type": "execute_result"
    }
   ],
   "source": [
    "a = np.mean(y) - b*np.mean(X)\n",
    "a"
   ]
  },
  {
   "cell_type": "code",
   "execution_count": 34,
   "metadata": {},
   "outputs": [
    {
     "data": {
      "text/plain": [
       "array([535.88, 562.08, 941.98, 968.18, 548.98, 627.58, 585.66, 837.18,\n",
       "       758.58, 732.38])"
      ]
     },
     "execution_count": 34,
     "metadata": {},
     "output_type": "execute_result"
    }
   ],
   "source": [
    "y_hat = 444.18 + 2.62*X\n",
    "y_hat"
   ]
  },
  {
   "cell_type": "code",
   "execution_count": 35,
   "metadata": {},
   "outputs": [
    {
     "data": {
      "image/png": "[encoded data removed]",
      "text/plain": [
       "<Figure size 432x288 with 1 Axes>"
      ]
     },
     "metadata": {
      "needs_background": "light"
     },
     "output_type": "display_data"
    }
   ],
   "source": [
    "plt.scatter(X, y)\n",
    "plt.plot(X, y_hat, color='red', alpha=0.5)\n",
    "\n",
    "plt.xlabel('salary')\n",
    "plt.ylabel('scoring')\n",
    "plt.grid(linestyle='dotted')\n",
    "\n",
    "plt.show()"
   ]
  },
  {
   "cell_type": "markdown",
   "metadata": {},
   "source": [
    "матричный расчет без использования intercept"
   ]
  },
  {
   "cell_type": "code",
   "execution_count": 36,
   "metadata": {},
   "outputs": [
    {
     "data": {
      "text/plain": [
       "array([[ 35],\n",
       "       [ 45],\n",
       "       [190],\n",
       "       [200],\n",
       "       [ 40],\n",
       "       [ 70],\n",
       "       [ 54],\n",
       "       [150],\n",
       "       [120],\n",
       "       [110]])"
      ]
     },
     "execution_count": 36,
     "metadata": {},
     "output_type": "execute_result"
    }
   ],
   "source": [
    "X = X.reshape((len(X), 1))\n",
    "X"
   ]
  },
  {
   "cell_type": "code",
   "execution_count": 37,
   "metadata": {},
   "outputs": [
    {
     "data": {
      "text/plain": [
       "array([[401],\n",
       "       [574],\n",
       "       [874],\n",
       "       [919],\n",
       "       [459],\n",
       "       [739],\n",
       "       [653],\n",
       "       [902],\n",
       "       [746],\n",
       "       [832]])"
      ]
     },
     "execution_count": 37,
     "metadata": {},
     "output_type": "execute_result"
    }
   ],
   "source": [
    "y = y.reshape((len(y), 1))\n",
    "y"
   ]
  },
  {
   "cell_type": "code",
   "execution_count": 41,
   "metadata": {},
   "outputs": [
    {
     "data": {
      "text/plain": [
       "array([[5.88982042]])"
      ]
     },
     "execution_count": 41,
     "metadata": {},
     "output_type": "execute_result"
    }
   ],
   "source": [
    "B = np.dot(np.linalg.inv(np.dot(X.T, X)), X.T @ y)\n",
    "B"
   ]
  },
  {
   "cell_type": "markdown",
   "metadata": {},
   "source": [
    "матричный расчет с использованем intercept"
   ]
  },
  {
   "cell_type": "code",
   "execution_count": 42,
   "metadata": {},
   "outputs": [
    {
     "data": {
      "text/plain": [
       "array([[  1.,  35.],\n",
       "       [  1.,  45.],\n",
       "       [  1., 190.],\n",
       "       [  1., 200.],\n",
       "       [  1.,  40.],\n",
       "       [  1.,  70.],\n",
       "       [  1.,  54.],\n",
       "       [  1., 150.],\n",
       "       [  1., 120.],\n",
       "       [  1., 110.]])"
      ]
     },
     "execution_count": 42,
     "metadata": {},
     "output_type": "execute_result"
    }
   ],
   "source": [
    "X = np.hstack([np.ones((len(X), 1)), X])\n",
    "X"
   ]
  },
  {
   "cell_type": "code",
   "execution_count": 43,
   "metadata": {},
   "outputs": [
    {
     "data": {
      "text/plain": [
       "array([[444.17735732],\n",
       "       [  2.62053888]])"
      ]
     },
     "execution_count": 43,
     "metadata": {},
     "output_type": "execute_result"
    }
   ],
   "source": [
    "B = np.dot(np.linalg.inv(np.dot(X.T, X)), X.T @ y)\n",
    "B"
   ]
  },
  {
   "cell_type": "markdown",
   "metadata": {},
   "source": [
    "##### 2. Посчитать коэффициент линейной регрессии при заработной плате (zp), используя градиентный спуск (без intercept)"
   ]
  },
  {
   "cell_type": "code",
   "execution_count": 55,
   "metadata": {},
   "outputs": [
    {
     "name": "stdout",
     "output_type": "stream",
     "text": [
      "Iteration: 0, B1 = 0.25952808, mse = 4672868.836557692\n",
      "Iteration: 100, B1 = 5.54537842245223, mse = 217853.54976661596\n",
      "Iteration: 200, B1 = 5.868748638669329, mse = 131810.8077273557\n",
      "Iteration: 300, B1 = 5.888531320728348, mse = 127244.99680579857\n",
      "Iteration: 400, B1 = 5.8897415574471985, mse = 126968.28841071585\n",
      "Iteration: 500, B1 = 5.889815595583751, mse = 126951.37011565862\n",
      "Iteration: 600, B1 = 5.889820124983314, mse = 126950.33514891358\n",
      "Iteration: 700, B1 = 5.889820402076462, mse = 126950.2718333306\n",
      "Iteration: 800, B1 = 5.88982041902807, mse = 126950.26795990097\n",
      "Iteration: 900, B1 = 5.889820420065112, mse = 126950.26772293777\n",
      "Iteration: 1000, B1 = 5.8898204201285544, mse = 126950.26770844117\n",
      "Iteration: 1100, B1 = 5.889820420132437, mse = 126950.26770755407\n",
      "Iteration: 1200, B1 = 5.889820420132673, mse = 126950.26770750014\n",
      "Iteration: 1300, B1 = 5.889820420132673, mse = 126950.26770750014\n",
      "Iteration: 1400, B1 = 5.889820420132673, mse = 126950.26770750014\n"
     ]
    }
   ],
   "source": [
    "X = np.array([35, 45, 190, 200, 40, 70, 54, 150, 120, 110])\n",
    "y = np.array([401, 574, 874, 919, 459, 739, 653, 902, 746, 832])\n",
    "\n",
    "def mse_(B1, y = y, X = X, n = 10):\n",
    "    return np.sum((B1*X) - y)**2 /n\n",
    "\n",
    "alpha = 1e-6\n",
    "n = 10\n",
    "B1 = 0.1\n",
    "\n",
    "for i in range (1500):\n",
    "    B1 -= alpha * (2/n) * np.sum((B1 * X - y) *  X)\n",
    "    if i % 100 == 0:\n",
    "        print('Iteration: {i}, B1 = {B1}, mse = {mse}'.format(i = i, B1 = B1, mse = mse_(B1)))"
   ]
  },
  {
   "cell_type": "code",
   "execution_count": 54,
   "metadata": {},
   "outputs": [
    {
     "data": {
      "text/plain": [
       "126950.26773781571"
      ]
     },
     "execution_count": 54,
     "metadata": {},
     "output_type": "execute_result"
    }
   ],
   "source": [
    "mse_(5.88982042)"
   ]
  },
  {
   "cell_type": "markdown",
   "metadata": {},
   "source": [
    "##### 3. В каких случаях для вычисления доверительных интервалов и проверки статистических гипотез используется таблица значений функции Лапласа, а в каких - таблица критических точек распределения Стьюдента?"
   ]
  },
  {
   "cell_type": "markdown",
   "metadata": {},
   "source": [
    "Таблица критических точек распределения Стьюдента применается когда неизвесто матеатическое ожидание и дисперсия генеральной совокупности, но мы знаем что величины распередены нормально.\n",
    "\n",
    "Таблица значений функции Лапласа применяется для случаев когда мы знаем среднее и дисперсию генеральной совокупности и величины распеределены нормально"
   ]
  },
  {
   "cell_type": "markdown",
   "metadata": {},
   "source": [
    "##### 4. Произвести вычисления как в пункте 2, но с вычислением intercept. Учесть, что изменение коэффициентов должно производиться на каждом шаге одновременно (то есть изменение одного коэффициента не должно влиять на изменение другого во время одной итерации)"
   ]
  },
  {
   "cell_type": "code",
   "execution_count": 64,
   "metadata": {},
   "outputs": [
    {
     "name": "stdout",
     "output_type": "stream",
     "text": [
      "Iteration: 0, B0 = 1.0443177357321112, B1 = 7.1143572856596755\n",
      "Iteration: 20000, B0 = 177.35536677074003, B1 = 4.584466701655933\n",
      "Iteration: 40000, B0 = 283.52014759581084, B1 = 3.8030469766375323\n",
      "Iteration: 60000, B0 = 347.4434300187104, B1 = 3.332543355898366\n",
      "Iteration: 80000, B0 = 385.9325222012687, B1 = 3.0492466204295723\n",
      "Iteration: 100000, B0 = 409.1073367741085, B1 = 2.878669738999376\n",
      "Iteration: 120000, B0 = 423.06121305515654, B1 = 2.77596304020777\n",
      "Iteration: 140000, B0 = 431.463034897347, B1 = 2.71412191679043\n",
      "Iteration: 160000, B0 = 436.5218879963818, B1 = 2.6768865213340987\n",
      "Iteration: 180000, B0 = 439.56789339358045, B1 = 2.6544665748943705\n",
      "Iteration: 200000, B0 = 441.40193535884856, B1 = 2.6409672151534656\n",
      "Iteration: 220000, B0 = 442.50623738453606, B1 = 2.632839064004434\n",
      "Iteration: 240000, B0 = 443.171152902838, B1 = 2.6279449918136932\n",
      "Iteration: 260000, B0 = 443.5715077298699, B1 = 2.624998203279702\n",
      "Iteration: 280000, B0 = 443.81256690673297, B1 = 2.623223901159605\n",
      "Iteration: 300000, B0 = 443.957711970129, B1 = 2.6221555693206917\n",
      "Iteration: 320000, B0 = 444.04510581965104, B1 = 2.6215123119491692\n",
      "Iteration: 340000, B0 = 444.09772686479835, B1 = 2.6211249977917848\n",
      "Iteration: 360000, B0 = 444.12941072364686, B1 = 2.6208917905824207\n",
      "Iteration: 380000, B0 = 444.1484880131347, B1 = 2.6207513732972365\n",
      "Iteration: 400000, B0 = 444.15997471290996, B1 = 2.620666826108329\n",
      "Iteration: 420000, B0 = 444.1668910136639, B1 = 2.620615919076908\n",
      "Iteration: 440000, B0 = 444.1710554139757, B1 = 2.6205852672494254\n",
      "Iteration: 460000, B0 = 444.17356285698446, B1 = 2.620566811360277\n",
      "Iteration: 480000, B0 = 444.1750726230867, B1 = 2.620555698814258\n",
      "Iteration: 500000, B0 = 444.175981674134, B1 = 2.6205490077966354\n",
      "Iteration: 520000, B0 = 444.1765290263395, B1 = 2.620544979042405\n",
      "Iteration: 540000, B0 = 444.17685859466883, B1 = 2.6205425532737903\n",
      "Iteration: 560000, B0 = 444.17705703231854, B1 = 2.620541092684954\n",
      "Iteration: 580000, B0 = 444.1771765143694, B1 = 2.620540213244234\n",
      "Iteration: 600000, B0 = 444.17724845616607, B1 = 2.620539683720803\n",
      "Iteration: 620000, B0 = 444.1772917733123, B1 = 2.620539364887455\n",
      "Iteration: 640000, B0 = 444.1773178551657, B1 = 2.6205391729134826\n",
      "Iteration: 660000, B0 = 444.17733355941414, B1 = 2.620539057323271\n",
      "Iteration: 680000, B0 = 444.17734301515793, B1 = 2.620538987724816\n",
      "Iteration: 700000, B0 = 444.17734870859067, B1 = 2.620538945818634\n",
      "Iteration: 720000, B0 = 444.1773521366857, B1 = 2.620538920586339\n",
      "Iteration: 740000, B0 = 444.17735420078907, B1 = 2.6205389053936257\n",
      "Iteration: 760000, B0 = 444.17735544361483, B1 = 2.620538896245878\n",
      "Iteration: 780000, B0 = 444.1773561919363, B1 = 2.6205388907379015\n",
      "Iteration: 800000, B0 = 444.1773566425114, B1 = 2.6205388874214695\n",
      "Iteration: 820000, B0 = 444.17735691380875, B1 = 2.620538885424601\n",
      "Iteration: 840000, B0 = 444.1773570771608, B1 = 2.620538884222257\n",
      "Iteration: 860000, B0 = 444.1773571755183, B1 = 2.620538883498303\n",
      "Iteration: 880000, B0 = 444.1773572347355, B1 = 2.6205388830624385\n",
      "Iteration: 900000, B0 = 444.177357270391, B1 = 2.620538882799998\n",
      "Iteration: 920000, B0 = 444.177357291875, B1 = 2.620538882641866\n",
      "Iteration: 940000, B0 = 444.177357304785, B1 = 2.620538882546843\n",
      "Iteration: 960000, B0 = 444.1773573125573, B1 = 2.620538882489635\n",
      "Iteration: 980000, B0 = 444.1773573172153, B1 = 2.6205388824553504\n"
     ]
    }
   ],
   "source": [
    "B0 = 1\n",
    "\n",
    "for i in range (1000000):\n",
    "    B1_old = B1\n",
    "    B0_old = B0\n",
    "    B1 -= alpha * (2/n) * np.sum((B1_old * X + B0_old - y) *  X)\n",
    "    B0 -= alpha * (2/n) * np.sum((B1_old * X + B0_old - y))\n",
    "    if i % 20000 == 0:\n",
    "        print('Iteration: {i}, B0 = {B0}, B1 = {B1}'.format(i = i, B0 = B0, B1 = B1))"
   ]
  },
  {
   "cell_type": "code",
   "execution_count": 60,
   "metadata": {},
   "outputs": [
    {
     "name": "stdout",
     "output_type": "stream",
     "text": [
      "444.1773573243596 2.620538882402765\n"
     ]
    }
   ],
   "source": [
    "print (a, b)"
   ]
  }
 ],
 "metadata": {
  "kernelspec": {
   "display_name": "Python 3",
   "language": "python",
   "name": "python3"
  },
  "language_info": {
   "codemirror_mode": {
    "name": "ipython",
    "version": 3
   },
   "file_extension": ".py",
   "mimetype": "text/x-python",
   "name": "python",
   "nbconvert_exporter": "python",
   "pygments_lexer": "ipython3",
   "version": "3.7.4"
  }
 },
 "nbformat": 4,
 "nbformat_minor": 2
}

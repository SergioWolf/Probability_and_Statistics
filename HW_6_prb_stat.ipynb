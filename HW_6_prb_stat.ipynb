{
 "cells": [
  {
   "cell_type": "markdown",
   "metadata": {},
   "source": [
    "### Урок 6. Взаимосвязь величин. Параметрические и непараметрические показатели корреляции. Корреляционный анализ"
   ]
  },
  {
   "cell_type": "markdown",
   "metadata": {},
   "source": [
    "##### 1. Даны значения величины заработной платы заемщиков банка (zp) и значения их поведенческого кредитного скоринга (ks): zp = [35, 45, 190, 200, 40, 70, 54, 150, 120, 110], ks = [401, 574, 874, 919, 459, 739, 653, 902, 746, 832]. Найдите ковариацию этих двух величин с помощью элементарных действий, а затем с помощью функции cov из numpy Полученные значения должны быть равны. Найдите коэффициент корреляции Пирсона с помощью ковариации и среднеквадратичных отклонений двух признаков, а затем с использованием функций из библиотек numpy и pandas."
   ]
  },
  {
   "cell_type": "markdown",
   "metadata": {},
   "source": [
    "$$cov_{XY} = M[(X - M(X))(Y - M(Y))] = M(XY) - M(X)M(Y)=\\overline{X \\cdot Y} - \\overline{X} \\cdot \\overline{Y}$$\n",
    "\n",
    "$$r_{XY} = \\frac{cov_{XY}}{\\sigma_{X}\\sigma_{Y}}$$"
   ]
  },
  {
   "cell_type": "code",
   "execution_count": 1,
   "metadata": {},
   "outputs": [
    {
     "name": "stdout",
     "output_type": "stream",
     "text": [
      "101.4\n",
      "709.9\n",
      "cov =  9157.839999999997 \n",
      "\n",
      "cov_numpy =  [[ 3494.64  9157.84]\n",
      " [ 9157.84 30468.89]]\n"
     ]
    }
   ],
   "source": [
    "import numpy as np\n",
    "\n",
    "z = np.array([35, 45, 190, 200, 40, 70, 54, 150, 120, 110])\n",
    "k = np.array([401, 574, 874, 919, 459, 739, 653, 902, 746, 832])\n",
    "\n",
    "z_avg = sum(z) / len(z)\n",
    "k_avg = sum(k) / len(k)\n",
    "zk_avg = sum(z*k) / len(z)\n",
    "cov = zk_avg - z_avg*k_avg\n",
    "\n",
    "print(z_avg)\n",
    "print(k_avg)\n",
    "print('cov = ', cov, '\\n')\n",
    "print('cov_numpy = ', np.cov(z, k, ddof = 0))"
   ]
  },
  {
   "cell_type": "code",
   "execution_count": 2,
   "metadata": {},
   "outputs": [
    {
     "name": "stdout",
     "output_type": "stream",
     "text": [
      "r =  0.8874900920739158 \n",
      "\n",
      "r_numpy =  [[1.         0.88749009]\n",
      " [0.88749009 1.        ]]\n"
     ]
    }
   ],
   "source": [
    "var_z = sum([(x-z_avg)**2 for x in z]) / len(z)\n",
    "var_k = sum([(x-k_avg)**2 for x in k]) / len(k)\n",
    "r = cov / (np.sqrt(var_z)*np.sqrt(var_k))\n",
    "print('r = ', r, '\\n')\n",
    "print('r_numpy = ', np.corrcoef(z, k))"
   ]
  },
  {
   "cell_type": "markdown",
   "metadata": {},
   "source": [
    "##### 2. Измерены значения IQ выборки студентов, обучающихся в местных технических вузах: 131, 125, 115, 122, 131, 115, 107, 99, 125, 111. Известно, что в генеральной совокупности IQ распределен нормально. Найдите доверительный интервал для математического ожидания с надежностью 0.95."
   ]
  },
  {
   "cell_type": "code",
   "execution_count": 4,
   "metadata": {},
   "outputs": [
    {
     "name": "stdout",
     "output_type": "stream",
     "text": [
      "Среднее арифметическое: 118.1 \n",
      "\n",
      "Несмещенная дисперсия: 111.21111111111111 \n",
      "\n",
      "Среднее квадратичное отклонение: 10.54566788359614 \n",
      "\n",
      "Доверительный итервал:  (110.55660776308164, 125.64339223691834) \n",
      "\n"
     ]
    }
   ],
   "source": [
    "data = [131, 125, 115, 122, 131, 115, 107, 99, 125, 111]\n",
    "\n",
    "avg = sum(data) / len(data)\n",
    "print('Среднее арифметическое:', avg, '\\n')\n",
    "\n",
    "var_unbiased = sum([(x-avg)**2 for x in data]) / (len(data) - 1)\n",
    "print('Несмещенная дисперсия:', var_unbiased, '\\n')\n",
    "\n",
    "std = np.sqrt(var_unbiased)\n",
    "print('Среднее квадратичное отклонение:', std, '\\n')\n",
    "\n",
    "t = 2.262\n",
    "\n",
    "T = (avg - t * std / np.sqrt(len(data)), avg + t * std / np.sqrt(len(data)))\n",
    "print('Доверительный итервал: ', T, '\\n')"
   ]
  },
  {
   "cell_type": "markdown",
   "metadata": {},
   "source": [
    "##### 3. Известно, что рост футболистов в сборной распределен нормально с дисперсией генеральной совокупности, равной 25 кв.см. Объем выборки равен 27, среднее выборочное составляет 174.2. Найдите доверительный интервал для математического ожидания с надежностью 0.95."
   ]
  },
  {
   "cell_type": "code",
   "execution_count": 6,
   "metadata": {},
   "outputs": [
    {
     "name": "stdout",
     "output_type": "stream",
     "text": [
      "T = (172.31398912064722, 176.08601087935276)\n"
     ]
    }
   ],
   "source": [
    "sigma = 5\n",
    "mean = 174.2\n",
    "p = 0.95\n",
    "n = 27\n",
    "Z = 1.96\n",
    "\n",
    "T = (mean - Z * sigma / np.sqrt(n), mean + Z * sigma / np.sqrt(n))\n",
    "print('T =', T)"
   ]
  },
  {
   "cell_type": "markdown",
   "metadata": {},
   "source": [
    "4. Тема (ориентировочная): Влияние развития информационных технологий (начиная с 1980 или 1990 года) на рейтинги фильмов по жанрам\n",
    "\n",
    "Есть вопрос на сайте https://www.imdb.com/ нет очевидного варианта для формирования датасета, будет какая то инструкция или самостоятельно разбираться нужно? "
   ]
  }
 ],
 "metadata": {
  "kernelspec": {
   "display_name": "Python 3",
   "language": "python",
   "name": "python3"
  },
  "language_info": {
   "codemirror_mode": {
    "name": "ipython",
    "version": 3
   },
   "file_extension": ".py",
   "mimetype": "text/x-python",
   "name": "python",
   "nbconvert_exporter": "python",
   "pygments_lexer": "ipython3",
   "version": "3.7.4"
  }
 },
 "nbformat": 4,
 "nbformat_minor": 2
}

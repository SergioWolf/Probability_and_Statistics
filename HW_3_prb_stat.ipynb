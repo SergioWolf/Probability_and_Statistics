{
 "cells": [
  {
   "cell_type": "markdown",
   "metadata": {},
   "source": [
    "### Урок 3. Описательная статистика. Качественные и количественные характеристики популяции. Графическое представление данных"
   ]
  },
  {
   "cell_type": "markdown",
   "metadata": {},
   "source": [
    "##### 1. Даны значения зарплат из выборки выпускников: 100, 80, 75, 77, 89, 33, 45, 25, 65, 17, 30, 24, 57, 55, 70, 75, 65, 84, 90, 150. Посчитать (желательно без использования статистических методов наподобие std, var, mean) среднее арифметическое, среднее квадратичное отклонение, смещенную и несмещенную оценки дисперсий для данной выборки."
   ]
  },
  {
   "cell_type": "code",
   "execution_count": 26,
   "metadata": {},
   "outputs": [
    {
     "name": "stdout",
     "output_type": "stream",
     "text": [
      "Среднее арифметическое: 65.3\n",
      "numpy_avg: 65.3 \n",
      "\n",
      "Смещенная дисперсия: 950.11\n",
      "numpy_var 950.11 \n",
      "\n",
      "Несмещенная дисперсия: 1000.1157894736842\n",
      "numpy_var_unbiased: 1000.1157894736842 \n",
      "\n",
      "Среднее квадратичное отклонение: 30.823854398825596\n",
      "numpy_std: 30.823854398825596 \n",
      "\n"
     ]
    }
   ],
   "source": [
    "import numpy as np\n",
    "data = [100, 80, 75, 77, 89, 33, 45, 25, 65, 17, 30, 24, 57, 55, 70, 75, 65, 84, 90, 150]\n",
    "\n",
    "avg = sum(data) / len(data)\n",
    "print('Среднее арифметическое:', avg)\n",
    "print('numpy_avg:', np.mean(data), '\\n')\n",
    "\n",
    "var = sum([(x-avg)**2 for x in data]) / len(data)\n",
    "print('Смещенная дисперсия:', var)\n",
    "print('numpy_var', np.var(data, ddof=0), '\\n')\n",
    "\n",
    "var_unbiased = sum([(x-avg)**2 for x in data]) / (len(data) - 1)\n",
    "print('Несмещенная дисперсия:', var_unbiased)\n",
    "print('numpy_var_unbiased:', np.var(data, ddof=1), '\\n')\n",
    "\n",
    "std = np.sqrt(var)\n",
    "print('Среднее квадратичное отклонение:', std)\n",
    "print('numpy_std:', np.std(data), '\\n')"
   ]
  },
  {
   "cell_type": "markdown",
   "metadata": {},
   "source": [
    "##### 2. В первом ящике находится 8 мячей, из которых 5 - белые. Во втором ящике - 12 мячей, из которых 5 белых. Из первого ящика вытаскивают случайным образом два мяча, из второго - 4. Какова вероятность того, что 3 мяча белые?"
   ]
  },
  {
   "cell_type": "code",
   "execution_count": 1,
   "metadata": {},
   "outputs": [],
   "source": [
    "from math import factorial\n",
    "\n",
    "def combinations (n, k):\n",
    "    return factorial(n) / (factorial(k) * factorial(n -k))"
   ]
  },
  {
   "cell_type": "markdown",
   "metadata": {},
   "source": [
    "возможно 3 исхода (0 и 3) + (1 и 2) + (2 и 1)\n",
    "$$ P = ((\\frac{C_{5}^{0}*C_{3}^{2}}{C_{8}^{2}} \\cdot \\frac{C_{5}^{3}*C_{7}^{1}}{C_{12}^{4}}) + (\\frac{C_{5}^{1}*C_{3}^{1}}{C_{8}^{2}} \\cdot \\frac{C_{5}^{2}*C_{7}^{2}}{C_{12}^{4}}) + (\\frac{C_{5}^{2}*C_{3}^{0}}{C_{8}^{2}} \\cdot \\frac{C_{5}^{1}*C_{7}^{3}}{C_{12}^{4}}))\\cdot 100 \\approx 36.9\\% $$"
   ]
  },
  {
   "cell_type": "code",
   "execution_count": 2,
   "metadata": {},
   "outputs": [
    {
     "name": "stdout",
     "output_type": "stream",
     "text": [
      "0.01515151515151515\n"
     ]
    }
   ],
   "source": [
    "c1 = combinations (5, 0)\n",
    "c2 = combinations (3, 2)\n",
    "c3 = combinations (8, 2)\n",
    "c4 = combinations (5, 3)\n",
    "c5 = combinations (7, 1)\n",
    "c6 = combinations (12, 4)\n",
    "p1 = (c1*c2/c3)*(c4*c5/c6)\n",
    "print(p1)"
   ]
  },
  {
   "cell_type": "code",
   "execution_count": 3,
   "metadata": {},
   "outputs": [
    {
     "name": "stdout",
     "output_type": "stream",
     "text": [
      "0.22727272727272727\n"
     ]
    }
   ],
   "source": [
    "c21 = combinations (5, 1)\n",
    "c22 = combinations (3, 1)\n",
    "c23 = combinations (8, 2)\n",
    "c24 = combinations (5, 2)\n",
    "c25 = combinations (7, 2)\n",
    "c26 = combinations (12, 4)\n",
    "p2 = (c21*c22/c23)*(c24*c25/c26)\n",
    "print(p2)"
   ]
  },
  {
   "cell_type": "code",
   "execution_count": 4,
   "metadata": {},
   "outputs": [
    {
     "name": "stdout",
     "output_type": "stream",
     "text": [
      "0.12626262626262627\n"
     ]
    }
   ],
   "source": [
    "c31 = combinations (5, 2)\n",
    "c32 = combinations (3, 0)\n",
    "c33 = combinations (8, 2)\n",
    "c34 = combinations (5, 1)\n",
    "c35 = combinations (7, 3)\n",
    "c36 = combinations (12, 4)\n",
    "p3 = (c31*c32/c33)*(c34*c35/c36)\n",
    "print(p3)"
   ]
  },
  {
   "cell_type": "code",
   "execution_count": 5,
   "metadata": {},
   "outputs": [
    {
     "name": "stdout",
     "output_type": "stream",
     "text": [
      "0.3686868686868687\n"
     ]
    }
   ],
   "source": [
    "P = p1 + p2 + p3\n",
    "print(P)"
   ]
  },
  {
   "cell_type": "markdown",
   "metadata": {},
   "source": [
    "##### 3. На соревновании по биатлону один из трех спортсменов стреляет и попадает в мишень. Вероятность попадания для первого спортсмена равна 0.9, для второго — 0.8, для третьего — 0.6. Найти вероятность того, что выстрел произведен: a). первым спортсменом б). вторым спортсменом в). третьим спортсменом."
   ]
  },
  {
   "cell_type": "markdown",
   "metadata": {},
   "source": [
    "Событием $A$ будем считать попадание в мишень, а событиями $B_1, B_2$ и $B_3$ — что выстрел совершил первый, второй или третий спортсмен: $$P(A\\:|\\:B_1) = 0.9$$\n",
    "\n",
    "$$P(A\\:|\\:B_2) = 0.8$$\n",
    "\n",
    "$$P(A\\:|\\:B_3) = 0.6$$"
   ]
  },
  {
   "cell_type": "markdown",
   "metadata": {},
   "source": [
    "Вероятность того, что стрелял первый спортсмен — при условии, что выстрел был удачным, — будем находить по формуле:\n",
    "$$P(B_1\\:|\\:A) = \\frac{P(B_1) \\cdot P(A\\:|\\:B_1)}{P(A)} = (\\frac{\\frac{1}{3} \\cdot 0.9}{\\frac{1}{3} \\cdot 0.9 + \\frac{1}{3} \\cdot 0.8 + \\frac{1}{3} \\cdot 0.6})\\cdot 100 = 39,13\\%$$"
   ]
  },
  {
   "cell_type": "code",
   "execution_count": 17,
   "metadata": {},
   "outputs": [
    {
     "name": "stdout",
     "output_type": "stream",
     "text": [
      "0.391304347826087\n"
     ]
    }
   ],
   "source": [
    "Pa1 = (1/3*0.9) / (1/3*0.9 + 1/3*0.8 + 1/3*0.6)\n",
    "print(Pa1)"
   ]
  },
  {
   "cell_type": "markdown",
   "metadata": {},
   "source": [
    "Вероятность того, что стрелял второй спортсмен — при условии, что выстрел был удачным, — будем находить по формуле:\n",
    "$$P(B_2\\:|\\:A) = \\frac{P(B_2) \\cdot P(A\\:|\\:B_2)}{P(A)} = (\\frac{\\frac{1}{3} \\cdot 0.8}{\\frac{1}{3} \\cdot 0.9 + \\frac{1}{3} \\cdot 0.8 + \\frac{1}{3} \\cdot 0.6})\\cdot 100 = 34,78\\%$$"
   ]
  },
  {
   "cell_type": "code",
   "execution_count": 13,
   "metadata": {},
   "outputs": [
    {
     "name": "stdout",
     "output_type": "stream",
     "text": [
      "0.3478260869565218\n"
     ]
    }
   ],
   "source": [
    "Pa2 = (1/3*0.8) / (1/3*0.9 + 1/3*0.8 + 1/3*0.6)\n",
    "print(Pa2)"
   ]
  },
  {
   "cell_type": "markdown",
   "metadata": {},
   "source": [
    "Вероятность того, что стрелял третий спортсмен — при условии, что выстрел был удачным, — будем находить по формуле:\n",
    "$$P(B_3\\:|\\:A) = \\frac{P(B_3) \\cdot P(A\\:|\\:B_3)}{P(A)} = (\\frac{\\frac{1}{3} \\cdot 0.6}{\\frac{1}{3} \\cdot 0.9 + \\frac{1}{3} \\cdot 0.8 + \\frac{1}{3} \\cdot 0.6})\\cdot 100 = 26,09\\%$$"
   ]
  },
  {
   "cell_type": "code",
   "execution_count": 15,
   "metadata": {},
   "outputs": [
    {
     "name": "stdout",
     "output_type": "stream",
     "text": [
      "0.2608695652173913\n"
     ]
    }
   ],
   "source": [
    "Pa3 = (1/3*0.6) / (1/3*0.9 + 1/3*0.8 + 1/3*0.6)\n",
    "print(Pa3)"
   ]
  },
  {
   "cell_type": "markdown",
   "metadata": {},
   "source": [
    "##### 4. В университет на факультеты A и B поступило равное количество студентов, а на факультет C студентов поступило столько же, сколько на A и B вместе. Вероятность того, что студент факультета A сдаст первую сессию, равна 0.8. Для студента факультета B эта вероятность равна 0.7, а для студента факультета C - 0.9. Студент сдал первую сессию. Какова вероятность, что он учится: a). на факультете A б). на факультете B в). на факультете C?"
   ]
  },
  {
   "cell_type": "markdown",
   "metadata": {},
   "source": [
    "Событием $D$ будем считать сдачу первой сессии, а событиями $A, B$ и $C$ — что сессию сдал студент с факультета А, В или С: $$P(D\\:|\\:A) = 0.8$$\n",
    "\n",
    "$$P(D\\:|\\:B) = 0.7$$\n",
    "\n",
    "$$P(D\\:|\\:C) = 0.9$$"
   ]
  },
  {
   "cell_type": "markdown",
   "metadata": {},
   "source": [
    "Вероятность того, что сессию сдал студент факультета A:\n",
    "$$P(A\\:|\\:D) = \\frac{P(A) \\cdot P(D\\:|\\:A)}{P(D)} = (\\frac{0.25\\cdot 0.8}{0.25\\cdot0.8 + 0.25\\cdot0.7 + 0.5\\cdot0.9})\\cdot100 = 24,24\\%$$"
   ]
  },
  {
   "cell_type": "code",
   "execution_count": 21,
   "metadata": {},
   "outputs": [
    {
     "name": "stdout",
     "output_type": "stream",
     "text": [
      "0.24242424242424246\n"
     ]
    }
   ],
   "source": [
    "Pad = (0.25*0.8) / (0.25*0.8 + 0.25*0.7 + 0.5*0.9)\n",
    "print(Pad)"
   ]
  },
  {
   "cell_type": "markdown",
   "metadata": {},
   "source": [
    "Вероятность того, что сессию сдал студент факультета B:\n",
    "$$P(B\\:|\\:D) = \\frac{P(B) \\cdot P(D\\:|\\:B)}{P(D)} = (\\frac{0.25\\cdot 0.7}{0.25\\cdot0.8 + 0.25\\cdot0.7 + 0.5\\cdot0.9})\\cdot100 = 21,21\\%$$"
   ]
  },
  {
   "cell_type": "code",
   "execution_count": 23,
   "metadata": {},
   "outputs": [
    {
     "name": "stdout",
     "output_type": "stream",
     "text": [
      "0.21212121212121213\n"
     ]
    }
   ],
   "source": [
    "Pbd = (0.25*0.7) / (0.25*0.8 + 0.25*0.7 + 0.5*0.9)\n",
    "print(Pbd)"
   ]
  },
  {
   "cell_type": "markdown",
   "metadata": {},
   "source": [
    "Вероятность того, что сессию сдал студент факультета C:\n",
    "$$P(C\\:|\\:D) = \\frac{P(C) \\cdot P(D\\:|\\:C)}{P(D)} = (\\frac{0.5\\cdot 0.9}{0.25\\cdot0.8 + 0.25\\cdot0.7 + 0.5\\cdot0.9})\\cdot100 = 54,54\\%$$"
   ]
  },
  {
   "cell_type": "code",
   "execution_count": 25,
   "metadata": {},
   "outputs": [
    {
     "name": "stdout",
     "output_type": "stream",
     "text": [
      "0.5454545454545455\n"
     ]
    }
   ],
   "source": [
    "Pcd = (0.5*0.9) / (0.25*0.8 + 0.25*0.7 + 0.5*0.9)\n",
    "print(Pcd)"
   ]
  },
  {
   "cell_type": "markdown",
   "metadata": {},
   "source": [
    "##### 5. Устройство состоит из трех деталей. Для первой детали вероятность выйти из строя в первый месяц равна 0.1, для второй - 0.2, для третьей - 0.25. Какова вероятность того, что в первый месяц выйдут из строя: а). все детали б). только две детали в). хотя бы одна деталь г). от одной до двух деталей?"
   ]
  },
  {
   "cell_type": "markdown",
   "metadata": {},
   "source": [
    "a) P = 0.5%"
   ]
  },
  {
   "cell_type": "code",
   "execution_count": 31,
   "metadata": {},
   "outputs": [
    {
     "name": "stdout",
     "output_type": "stream",
     "text": [
      "0.005000000000000001\n"
     ]
    }
   ],
   "source": [
    "P1 = 0.1*0.2*0.25\n",
    "print(P1)"
   ]
  },
  {
   "cell_type": "markdown",
   "metadata": {},
   "source": [
    "б) P = 8%"
   ]
  },
  {
   "cell_type": "code",
   "execution_count": 32,
   "metadata": {},
   "outputs": [
    {
     "name": "stdout",
     "output_type": "stream",
     "text": [
      "0.08\n"
     ]
    }
   ],
   "source": [
    "Pa1 = 0.9*0.2*0.25\n",
    "Pa2 = 0.1*0.8*0.25\n",
    "Pa3 = 0.1*0.2*0.75\n",
    "P2 = Pa1 + Pa2 + Pa3\n",
    "print(P2)"
   ]
  },
  {
   "cell_type": "markdown",
   "metadata": {},
   "source": [
    "в) P = 46%"
   ]
  },
  {
   "cell_type": "code",
   "execution_count": 34,
   "metadata": {},
   "outputs": [
    {
     "name": "stdout",
     "output_type": "stream",
     "text": [
      "0.45999999999999996\n"
     ]
    }
   ],
   "source": [
    "P3 = 1 - 0.9*0.8*0.75\n",
    "print (P3)"
   ]
  },
  {
   "cell_type": "markdown",
   "metadata": {},
   "source": [
    "г) P = 45,5%"
   ]
  },
  {
   "cell_type": "code",
   "execution_count": 35,
   "metadata": {},
   "outputs": [
    {
     "name": "stdout",
     "output_type": "stream",
     "text": [
      "0.455\n"
     ]
    }
   ],
   "source": [
    "Pa4 = 0.9*0.8*0.25\n",
    "Pa5 = 0.9*0.2*0.75\n",
    "Pa6 = 0.1*0.8*0.75\n",
    "P4 = P2 + Pa4 + Pa5 + Pa6\n",
    "print(P4)"
   ]
  }
 ],
 "metadata": {
  "kernelspec": {
   "display_name": "Python 3",
   "language": "python",
   "name": "python3"
  },
  "language_info": {
   "codemirror_mode": {
    "name": "ipython",
    "version": 3
   },
   "file_extension": ".py",
   "mimetype": "text/x-python",
   "name": "python",
   "nbconvert_exporter": "python",
   "pygments_lexer": "ipython3",
   "version": "3.7.4"
  }
 },
 "nbformat": 4,
 "nbformat_minor": 2
}
